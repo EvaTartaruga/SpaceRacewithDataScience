{
 "cells": [
  {
   "cell_type": "markdown",
   "id": "1efbb4ec",
   "metadata": {},
   "source": [
    "# Hands-on Lab: Build an Interactive Dashboard with Ploty Dash\n",
    "\n",
    "Rather than using the provided theiadocker instance that does not persist data, I am adapting the assignment to be run on jupyter notebook.\n",
    "\n"
   ]
  },
  {
   "cell_type": "markdown",
   "id": "c774907e",
   "metadata": {},
   "source": [
    "### Import Required Packages"
   ]
  },
  {
   "cell_type": "code",
   "execution_count": 1,
   "id": "42664f2e",
   "metadata": {},
   "outputs": [],
   "source": [
    "# Import required packages\n",
    "import pandas as pd\n",
    "import plotly.express as px\n",
    "import dash\n",
    "from dash import dcc\n",
    "from dash import html\n",
    "from dash.dependencies import Input, Output\n",
    "\n",
    "import wget\n",
    "import webbrowser"
   ]
  },
  {
   "cell_type": "code",
   "execution_count": 2,
   "id": "8eb85799",
   "metadata": {},
   "outputs": [],
   "source": [
    "import warnings\n",
    "warnings.filterwarnings(\"ignore\", message=\"elementwise comparison failed; returning scalar\")"
   ]
  },
  {
   "cell_type": "markdown",
   "id": "e2d58fea",
   "metadata": {},
   "source": [
    "### Import Dataset"
   ]
  },
  {
   "cell_type": "code",
   "execution_count": 3,
   "id": "9d68e47e",
   "metadata": {},
   "outputs": [],
   "source": [
    "#Run the following wget command line in the terminal to download dataset as spacex_launch_dash.csv\n",
    "url= \"https://cf-courses-data.s3.us.cloud-object-storage.appdomain.cloud/IBM-DS0321EN-SkillsNetwork/datasets/spacex_launch_dash.csv\"\n",
    "spacex_df=pd.read_csv(url)"
   ]
  },
  {
   "cell_type": "code",
   "execution_count": 4,
   "id": "42e7083c",
   "metadata": {},
   "outputs": [],
   "source": [
    "max_payload = spacex_df['Payload Mass (kg)'].max()\n",
    "min_payload = spacex_df['Payload Mass (kg)'].min()"
   ]
  },
  {
   "cell_type": "code",
   "execution_count": 5,
   "id": "32520f48",
   "metadata": {},
   "outputs": [
    {
     "data": {
      "text/html": [
       "<div>\n",
       "<style scoped>\n",
       "    .dataframe tbody tr th:only-of-type {\n",
       "        vertical-align: middle;\n",
       "    }\n",
       "\n",
       "    .dataframe tbody tr th {\n",
       "        vertical-align: top;\n",
       "    }\n",
       "\n",
       "    .dataframe thead th {\n",
       "        text-align: right;\n",
       "    }\n",
       "</style>\n",
       "<table border=\"1\" class=\"dataframe\">\n",
       "  <thead>\n",
       "    <tr style=\"text-align: right;\">\n",
       "      <th></th>\n",
       "      <th>Unnamed: 0</th>\n",
       "      <th>Flight Number</th>\n",
       "      <th>Launch Site</th>\n",
       "      <th>class</th>\n",
       "      <th>Payload Mass (kg)</th>\n",
       "      <th>Booster Version</th>\n",
       "      <th>Booster Version Category</th>\n",
       "    </tr>\n",
       "  </thead>\n",
       "  <tbody>\n",
       "    <tr>\n",
       "      <th>0</th>\n",
       "      <td>0</td>\n",
       "      <td>1</td>\n",
       "      <td>CCAFS LC-40</td>\n",
       "      <td>0</td>\n",
       "      <td>0.0</td>\n",
       "      <td>F9 v1.0  B0003</td>\n",
       "      <td>v1.0</td>\n",
       "    </tr>\n",
       "    <tr>\n",
       "      <th>1</th>\n",
       "      <td>1</td>\n",
       "      <td>2</td>\n",
       "      <td>CCAFS LC-40</td>\n",
       "      <td>0</td>\n",
       "      <td>0.0</td>\n",
       "      <td>F9 v1.0  B0004</td>\n",
       "      <td>v1.0</td>\n",
       "    </tr>\n",
       "    <tr>\n",
       "      <th>2</th>\n",
       "      <td>2</td>\n",
       "      <td>3</td>\n",
       "      <td>CCAFS LC-40</td>\n",
       "      <td>0</td>\n",
       "      <td>525.0</td>\n",
       "      <td>F9 v1.0  B0005</td>\n",
       "      <td>v1.0</td>\n",
       "    </tr>\n",
       "    <tr>\n",
       "      <th>3</th>\n",
       "      <td>3</td>\n",
       "      <td>4</td>\n",
       "      <td>CCAFS LC-40</td>\n",
       "      <td>0</td>\n",
       "      <td>500.0</td>\n",
       "      <td>F9 v1.0  B0006</td>\n",
       "      <td>v1.0</td>\n",
       "    </tr>\n",
       "    <tr>\n",
       "      <th>4</th>\n",
       "      <td>4</td>\n",
       "      <td>5</td>\n",
       "      <td>CCAFS LC-40</td>\n",
       "      <td>0</td>\n",
       "      <td>677.0</td>\n",
       "      <td>F9 v1.0  B0007</td>\n",
       "      <td>v1.0</td>\n",
       "    </tr>\n",
       "  </tbody>\n",
       "</table>\n",
       "</div>"
      ],
      "text/plain": [
       "   Unnamed: 0  Flight Number  Launch Site  class  Payload Mass (kg)  \\\n",
       "0           0              1  CCAFS LC-40      0                0.0   \n",
       "1           1              2  CCAFS LC-40      0                0.0   \n",
       "2           2              3  CCAFS LC-40      0              525.0   \n",
       "3           3              4  CCAFS LC-40      0              500.0   \n",
       "4           4              5  CCAFS LC-40      0              677.0   \n",
       "\n",
       "  Booster Version Booster Version Category  \n",
       "0  F9 v1.0  B0003                     v1.0  \n",
       "1  F9 v1.0  B0004                     v1.0  \n",
       "2  F9 v1.0  B0005                     v1.0  \n",
       "3  F9 v1.0  B0006                     v1.0  \n",
       "4  F9 v1.0  B0007                     v1.0  "
      ]
     },
     "execution_count": 5,
     "metadata": {},
     "output_type": "execute_result"
    }
   ],
   "source": [
    "spacex_df.head()"
   ]
  },
  {
   "cell_type": "code",
   "execution_count": 6,
   "id": "50d9400d",
   "metadata": {},
   "outputs": [
    {
     "name": "stdout",
     "output_type": "stream",
     "text": [
      "\r",
      "  0% [                                                                                ]    0 / 2110\r",
      "100% [................................................................................] 2110 / 2110"
     ]
    }
   ],
   "source": [
    "# Download a skeleton Dash app to be completed in this lab:\n",
    "spacex_app_file = wget.download('https://cf-courses-data.s3.us.cloud-object-storage.appdomain.cloud/IBM-DS0321EN-SkillsNetwork/labs/module_3/spacex_dash_app.py')\n"
   ]
  },
  {
   "cell_type": "code",
   "execution_count": 7,
   "id": "d8d1bb6e",
   "metadata": {},
   "outputs": [
    {
     "data": {
      "text/plain": [
       "array(['CCAFS LC-40', 'VAFB SLC-4E', 'KSC LC-39A', 'CCAFS SLC-40'],\n",
       "      dtype=object)"
      ]
     },
     "execution_count": 7,
     "metadata": {},
     "output_type": "execute_result"
    }
   ],
   "source": [
    "Launch_site=spacex_df['Launch Site'].unique()\n",
    "Launch_site"
   ]
  },
  {
   "cell_type": "markdown",
   "id": "fcdd5703",
   "metadata": {},
   "source": [
    "### Dashboard Application Task"
   ]
  },
  {
   "cell_type": "code",
   "execution_count": 12,
   "id": "8aef36aa",
   "metadata": {},
   "outputs": [
    {
     "data": {
      "text/html": [
       "\n",
       "        <iframe\n",
       "            width=\"100%\"\n",
       "            height=\"650\"\n",
       "            src=\"http://127.0.0.1:8002/\"\n",
       "            frameborder=\"0\"\n",
       "            allowfullscreen\n",
       "            \n",
       "        ></iframe>\n",
       "        "
      ],
      "text/plain": [
       "<IPython.lib.display.IFrame at 0x18978bbfe80>"
      ]
     },
     "metadata": {},
     "output_type": "display_data"
    }
   ],
   "source": [
    "# skeleton Dash app to be completed in this lab, downloaded from:\n",
    "# https://cf-courses-data.s3.us.cloud-object-storage.appdomain.cloud/IBM-DS0321EN-SkillsNetwork/labs/module_3/spacex_dash_app.py\n",
    "\n",
    "\n",
    "# Create a dash application\n",
    "app = dash.Dash(__name__)\n",
    "\n",
    "\n",
    "# Create an app layout\n",
    "app.layout = html.Div(children=[html.H1('SpaceX Launch Records Dashboard',\n",
    "                                        style={'textAlign': 'center', 'color': '#503D36',\n",
    "                                               'font-size': 40}),\n",
    "                               \n",
    "                                # TASK 1: Add a dropdown list to enable Launch Site selection\n",
    "                                # The default select value is for ALL sites\n",
    "                                # dcc.Dropdown(id='site-dropdown',...)\n",
    "                                html.Br(),\n",
    "                                html.Div([\n",
    "                                        html.Div(dcc.Dropdown(id='site-dropdown',\n",
    "                                                              options=[{'label': 'All Sites', 'value': 'ALL'},\n",
    "                                                                        {'label': Launch_site[0], 'value': Launch_site[0]},\n",
    "                                                                        {'label': Launch_site[1], 'value': Launch_site[1]},\n",
    "                                                                        {'label': Launch_site[2], 'value': Launch_site[2]},\n",
    "                                                                        {'label': Launch_site[3], 'value': Launch_site[3]},\n",
    "                                                                        ],\n",
    "                                                              value='ALL',\n",
    "                                                              placeholder=\"place holder here\",\n",
    "                                                              searchable=True,\n",
    "                                                             ),\n",
    "                                                ),\n",
    "                                ]),\n",
    "                                \n",
    "\n",
    "                                # TASK 2: Add a pie chart to show the total successful launches count for all sites\n",
    "                                # If a specific launch site was selected, show the Success vs. Failed counts for the site\n",
    "                                html.Br(),\n",
    "                                html.Br(),\n",
    "                                html.Div(dcc.Graph(id='success-pie-chart'), style={'width':'65%'}),\n",
    "                                html.Br(),\n",
    "\n",
    "                                html.P(\"    PAYLOAD RANGE (Kg):\"),\n",
    "                                # TASK 3: Add a slider to select payload range\n",
    "                                dcc.RangeSlider(id='payload-slider',\n",
    "                                                min=0, max=10000, step=1000,\n",
    "                                                marks={0: '0', \n",
    "                                                       2500: '2500',\n",
    "                                                       5000: '5000',\n",
    "                                                       7500:'7500',\n",
    "                                                       10000:'10000',\n",
    "                                                      },\n",
    "                                                value=[min_payload, max_payload]),\n",
    "\n",
    "                                # TASK 4: Add a scatter chart to show the correlation between payload and launch success\n",
    "                              html.Div(dcc.Graph(id='success-payload-scatter-chart'), style={'width':'65%'}),\n",
    "                                ])\n",
    "\n",
    "\n",
    "\n",
    "\n",
    "\n",
    "# TASK 2:\n",
    "# Add a callback function for `site-dropdown` as input, `success-pie-chart` as output\n",
    "\n",
    "# Function decorator to specify function input and output\n",
    "@app.callback(Output(component_id='success-pie-chart', component_property='figure'),\n",
    "              Input(component_id='site-dropdown', component_property='value'))\n",
    "\n",
    "def get_pie_chart(entered_site):\n",
    "    \n",
    "    if entered_site == 'ALL':\n",
    "        filtered_df = spacex_df[spacex_df['class']==1]\n",
    "        \n",
    "        fig = px.pie(filtered_df, values='class', names=('Launch Site'), \n",
    "                     title='Total Successful Launches for All Sites')\n",
    "        \n",
    "        fig.update_layout(legend_title='Launch Sites')\n",
    "        \n",
    "        return fig\n",
    "    \n",
    "    else:\n",
    "        # return the outcomes piechart for a selected site\n",
    "        \n",
    "        filtered_df=spacex_df[spacex_df['Launch Site']==entered_site]\n",
    "        fig = px.pie(filtered_df, names=('class'),\n",
    "                 title=('Total Successful Launches for site '+ str(entered_site)))\n",
    "\n",
    "        # Map legend labels to custom values\n",
    "        legend_labels = {'0': 'Failed', '1': 'Success'}\n",
    "\n",
    "        # Extracting labels directly from the DataFrame\n",
    "        data_labels = filtered_df['class'].astype(str)\n",
    "\n",
    "        # Update traces to set custom labels\n",
    "        fig.update_traces(\n",
    "            customdata=[legend_labels[key] for key in data_labels],\n",
    "            legendgroup=str(data_labels.unique()[0]),  # Convert to string\n",
    "            labels=[legend_labels[key] for key in data_labels] ) # Set custom legend labels)  \n",
    "\n",
    "        # Update layout to change the legend title\n",
    "        fig.update_layout(legend_title='Launch Outcomes')\n",
    "\n",
    "        return fig\n",
    "\n",
    "   \n",
    "\n",
    "# TASK 4:\n",
    "# Add a callback function for `site-dropdown` and `payload-slider` as inputs, `success-payload-scatter-chart` as output\n",
    "@app.callback([ Output(component_id='success-payload-scatter-chart', component_property='figure'),\n",
    "               Input(component_id='site-dropdown', component_property='value'), \n",
    "               Input(component_id=\"payload-slider\", component_property=\"value\")])\n",
    "\n",
    "def get_scatter(entered_site, payload_value):\n",
    "\n",
    "    if entered_site == 'ALL':\n",
    "        \n",
    "        filterload_df = spacex_df[(spacex_df['Payload Mass (kg)'] < payload_value[1]) \n",
    "                                  & (spacex_df['Payload Mass (kg)'] > payload_value[0])]\n",
    "        \n",
    "        fig=px.scatter(filterload_df, x='Payload Mass (kg)', y='class', color='Booster Version Category',\n",
    "                       title='Correlation Between Payload and Success for All Sites')\n",
    "        \n",
    "        fig.update_layout(yaxis_title='Launch Outcome', width=800, height=320)\n",
    "        fig.update_yaxes(tickvals=[0, 1], ticktext=['Failed  ', 'Success  '])\n",
    "  \n",
    "        \n",
    "        return [fig]\n",
    "\n",
    "    else:\n",
    "        filterload_df = spacex_df[(spacex_df['Payload Mass (kg)'] < payload_value[1])\n",
    "                              & (spacex_df['Payload Mass (kg)'] > payload_value[0])]\n",
    "        \n",
    "        filtersite_df = filterload_df[filterload_df['Launch Site'] == entered_site]\n",
    "        \n",
    "        fig=px.scatter(filtersite_df, x='Payload Mass (kg)', y='class', color='Booster Version Category',\n",
    "                   title=('Correlation Between Payload and Success for '+ str(entered_site)))\n",
    "        \n",
    "        fig.update_layout(yaxis_title='Launch Outcome', width=800, height=320)\n",
    "        fig.update_yaxes(tickvals=[0, 1], ticktext=['Failed  ', 'Success  '])\n",
    "        \n",
    "        return [fig]\n",
    "\n",
    "\n",
    "    \n",
    "    \n",
    "# Run the app\n",
    "if __name__ == '__main__':\n",
    "    app.run_server(port=8002, host='127.0.0.1') # to open in the notebook\n",
    "    webbrowser.open_new('http://127.0.0.1:8002') ## to open in a new tab in the webbrowser"
   ]
  },
  {
   "cell_type": "markdown",
   "id": "aede923d",
   "metadata": {},
   "source": [
    "# Finding Insights Visually"
   ]
  },
  {
   "cell_type": "markdown",
   "id": "12f90337",
   "metadata": {},
   "source": [
    "> **Now with the dashboard completed, you should be able to use it to analyze SpaceX launch data, and answer the following questions:**\n"
   ]
  },
  {
   "cell_type": "markdown",
   "id": "87497319",
   "metadata": {},
   "source": [
    "> **Questions**,\n",
    ">\n",
    "> 1. Which site has the largest successful launches?\n",
    "> 2. Which site has the highest launch success rate?\n",
    "> 3. Which payload range(s) has the highest launch success rate?\n",
    "> 4. Which payload range(s) has the lowest launch success rate?\n",
    "> 5. Which F9 Booster version (v1.0, v1.1, FT, B4, B5, etc.) has the highest launch success rate?"
   ]
  },
  {
   "cell_type": "markdown",
   "id": "ba705d94",
   "metadata": {},
   "source": [
    "> **Answers:**\n",
    ">\n",
    ">1. According the pie chart is KSC LC-39A with 10 successful launches\n",
    ">\n",
    ">2. According the pie chart is KSC LC-39A with 41.7% of success\n",
    ">\n",
    ">3. From 2500 to 5000 kg of payload, F9 got 11 success and 9 fails, 122% launch success rate\n",
    ">\n",
    ">4. From 5000 to 7500 kg of payload, F9 got 2 success and 7 fails, 29% launch success rate\n",
    ">\n",
    ">5. Acording the scatter plot, the FT version has the highest launch sucess rate \n"
   ]
  },
  {
   "cell_type": "code",
   "execution_count": null,
   "id": "de141e7e",
   "metadata": {},
   "outputs": [],
   "source": []
  }
 ],
 "metadata": {
  "kernelspec": {
   "display_name": "Python 3 (ipykernel)",
   "language": "python",
   "name": "python3"
  },
  "language_info": {
   "codemirror_mode": {
    "name": "ipython",
    "version": 3
   },
   "file_extension": ".py",
   "mimetype": "text/x-python",
   "name": "python",
   "nbconvert_exporter": "python",
   "pygments_lexer": "ipython3",
   "version": "3.10.9"
  }
 },
 "nbformat": 4,
 "nbformat_minor": 5
}
